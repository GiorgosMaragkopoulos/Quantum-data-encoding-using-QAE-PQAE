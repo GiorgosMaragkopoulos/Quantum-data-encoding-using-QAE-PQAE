{
 "cells": [
  {
   "cell_type": "markdown",
   "id": "2e47f9cb",
   "metadata": {
    "colab": {
     "base_uri": "https://localhost:8080/"
    },
    "execution": {
     "iopub.execute_input": "2024-02-20T16:27:37.660065Z",
     "iopub.status.busy": "2024-02-20T16:27:37.659480Z",
     "iopub.status.idle": "2024-02-20T16:27:56.429903Z",
     "shell.execute_reply": "2024-02-20T16:27:56.428184Z"
    },
    "id": "0739b0b3",
    "outputId": "2d2c1999-50bb-4103-b448-cc9a42111c85",
    "papermill": {
     "duration": 18.779491,
     "end_time": "2024-02-20T16:27:56.432694",
     "exception": false,
     "start_time": "2024-02-20T16:27:37.653203",
     "status": "completed"
    },
    "tags": []
   },
   "source": [
    "\n",
    "# Linear Autoencoder"
   ]
  },
  {
   "cell_type": "code",
   "execution_count": 1,
   "id": "459c6377",
   "metadata": {},
   "outputs": [
    {
     "name": "stdout",
     "output_type": "stream",
     "text": [
      "Epoch [500/10000], Loss: 0.0231\n",
      "Epoch [1000/10000], Loss: 0.0202\n",
      "Epoch [1500/10000], Loss: 0.0201\n",
      "Epoch [2000/10000], Loss: 0.0201\n",
      "Epoch [2500/10000], Loss: 0.0201\n",
      "Epoch [3000/10000], Loss: 0.0201\n",
      "Epoch [3500/10000], Loss: 0.0201\n",
      "Epoch [4000/10000], Loss: 0.0201\n",
      "Epoch [4500/10000], Loss: 0.0201\n",
      "Epoch [5000/10000], Loss: 0.0201\n",
      "Epoch [5500/10000], Loss: 0.0201\n",
      "Epoch [6000/10000], Loss: 0.0201\n",
      "Epoch [6500/10000], Loss: 0.0201\n",
      "Epoch [7000/10000], Loss: 0.0201\n",
      "Epoch [7500/10000], Loss: 0.0201\n",
      "Epoch [8000/10000], Loss: 0.0201\n",
      "Epoch [8500/10000], Loss: 0.0201\n",
      "Epoch [9000/10000], Loss: 0.0201\n",
      "Epoch [9500/10000], Loss: 0.0201\n",
      "Epoch [10000/10000], Loss: 0.0201\n"
     ]
    }
   ],
   "source": [
    "import torch\n",
    "import torch.nn as nn\n",
    "import torch.optim as optim\n",
    "from sklearn import datasets\n",
    "from sklearn.model_selection import train_test_split\n",
    "from sklearn.preprocessing import StandardScaler ,MinMaxScaler , Normalizer\n",
    "from torch.nn.functional import normalize\n",
    "\n",
    "\n",
    "# Load Iris dataset\n",
    "iris = datasets.load_iris()\n",
    "X = iris.data\n",
    "y = iris.target\n",
    "\n",
    "scaler = StandardScaler()\n",
    "X = scaler.fit_transform(X)\n",
    "\n",
    "# Convert to PyTorch tensor before normalization\n",
    "#X = torch.tensor(normalize(torch.tensor(X, dtype=torch.float32), p=2, dim=1), dtype=torch.float32)\n",
    "normalizer = Normalizer(norm='l2')\n",
    "X = normalizer.fit_transform(X)\n",
    "\n",
    "\n",
    "# Convert to PyTorch tensors\n",
    "X = torch.tensor(X, dtype=torch.float32)\n",
    "\n",
    "# Define the autoencoder model\n",
    "class Autoencoder(nn.Module):\n",
    "    def __init__(self):\n",
    "        super(Autoencoder, self).__init__()\n",
    "        self.encoder = nn.Sequential(\n",
    "            nn.Linear(4, 2)  # 4 inputs to 3 nodes (bottleneck)\n",
    "        )\n",
    "        self.decoder = nn.Sequential(\n",
    "            nn.Linear(2, 4),  # 3 nodes to 4 outputs\n",
    "            nn.Linear(4, 4)\n",
    "        )\n",
    "\n",
    "    def forward(self, x):\n",
    "        x = self.encoder(x)\n",
    "        x = self.decoder(x)\n",
    "        return x\n",
    "\n",
    "# Instantiate the model, define loss function and optimizer\n",
    "model = Autoencoder()\n",
    "criterion = nn.MSELoss()\n",
    "optimizer = optim.RMSprop(model.parameters(), lr=0.001)\n",
    "\n",
    "# Training the autoencoder\n",
    "num_epochs = 10000\n",
    "for epoch in range(num_epochs):\n",
    "    # Forward pass\n",
    "    outputs = model(X)\n",
    "    loss = criterion(outputs, X)\n",
    "\n",
    "    # Backward pass and optimization\n",
    "    optimizer.zero_grad()\n",
    "    loss.backward()\n",
    "    optimizer.step()\n",
    "\n",
    "    # Print progress\n",
    "    if (epoch+1) % 500 == 0:\n",
    "        print(f'Epoch [{epoch+1}/{num_epochs}], Loss: {loss.item():.4f}')"
   ]
  },
  {
   "cell_type": "markdown",
   "id": "1Gx-slHMSD40",
   "metadata": {
    "id": "1Gx-slHMSD40"
   },
   "source": [
    "# Polynomial feature map"
   ]
  },
  {
   "cell_type": "code",
   "execution_count": 2,
   "id": "d984ef13",
   "metadata": {
    "colab": {
     "base_uri": "https://localhost:8080/"
    },
    "id": "d984ef13",
    "outputId": "370e967b-a376-4a8a-d210-f11d3434d34f",
    "papermill": {
     "duration": 0.006233,
     "end_time": "2024-02-20T16:27:56.445681",
     "exception": false,
     "start_time": "2024-02-20T16:27:56.439448",
     "status": "completed"
    },
    "tags": []
   },
   "outputs": [
    {
     "name": "stdout",
     "output_type": "stream",
     "text": [
      "Epoch [500/10000], Loss: 0.0450\n",
      "Epoch [1000/10000], Loss: 0.0238\n",
      "Epoch [1500/10000], Loss: 0.0189\n",
      "Epoch [2000/10000], Loss: 0.0172\n",
      "Epoch [2500/10000], Loss: 0.0167\n",
      "Epoch [3000/10000], Loss: 0.0166\n",
      "Epoch [3500/10000], Loss: 0.0165\n",
      "Epoch [4000/10000], Loss: 0.0164\n",
      "Epoch [4500/10000], Loss: 0.0164\n",
      "Epoch [5000/10000], Loss: 0.0163\n",
      "Epoch [5500/10000], Loss: 0.0163\n",
      "Epoch [6000/10000], Loss: 0.0163\n",
      "Epoch [6500/10000], Loss: 0.0162\n",
      "Epoch [7000/10000], Loss: 0.0162\n",
      "Epoch [7500/10000], Loss: 0.0162\n",
      "Epoch [8000/10000], Loss: 0.0162\n",
      "Epoch [8500/10000], Loss: 0.0162\n",
      "Epoch [9000/10000], Loss: 0.0162\n",
      "Epoch [9500/10000], Loss: 0.0162\n",
      "Epoch [10000/10000], Loss: 0.0161\n"
     ]
    }
   ],
   "source": [
    "class Polynomial_Autoencoder(nn.Module):\n",
    "    def __init__(self):\n",
    "        super(Clifford_Autoencoder, self).__init__()\n",
    "        self.encoder = nn.Sequential(\n",
    "            nn.Linear(4, 2)  # 4 inputs to 2 nodes (bottleneck)\n",
    "        )\n",
    "        self.decoder = nn.Sequential(\n",
    "            nn.Linear(3, 4)  # 3 nodes to 4 outputs\n",
    "        )\n",
    "\n",
    "        self.q0 = torch.tensor([[1], [0]], dtype=torch.cfloat)\n",
    "\n",
    "    def forward(self, x):\n",
    "        x = self.encoder(x)\n",
    "\n",
    "        # Polynomial feature map\n",
    "        x1_square = x[:, 0:1] ** 2\n",
    "        x2_square = x[:, 1:2] ** 2\n",
    "        x1_x2 = x[:, 0:1] * x[:, 1:2]\n",
    "\n",
    "        # Combine the polynomial features\n",
    "        poly_features = torch.cat((x1_square, x2_square, x1_x2 ), dim=-1)\n",
    "\n",
    "        x = self.decoder(poly_features)\n",
    "\n",
    "        return x\n",
    "\n",
    "  # Instantiate the model, define loss function and optimizer\n",
    "model = Polynomial_Autoencoder()\n",
    "criterion = nn.MSELoss()\n",
    "optimizer = optim.RMSprop(model.parameters(), lr=0.001)\n",
    "\n",
    "# Training the autoencoder\n",
    "num_epochs = 10000\n",
    "for epoch in range(num_epochs):\n",
    "    # Forward pass\n",
    "    outputs = model(X)\n",
    "    loss = criterion(outputs, X)\n",
    "\n",
    "    # Backward pass and optimization\n",
    "    optimizer.zero_grad()\n",
    "    loss.backward()\n",
    "    optimizer.step()\n",
    "\n",
    "    # Print progress\n",
    "    if (epoch+1) % 500 == 0:\n",
    "        print(f'Epoch [{epoch+1}/{num_epochs}], Loss: {loss.item():.4f}')"
   ]
  },
  {
   "cell_type": "code",
   "execution_count": 2,
   "id": "ECoo7RQEWdfK",
   "metadata": {
    "id": "ECoo7RQEWdfK"
   },
   "outputs": [],
   "source": []
  },
  {
   "cell_type": "code",
   "execution_count": 3,
   "id": "b5572f04",
   "metadata": {
    "colab": {
     "base_uri": "https://localhost:8080/"
    },
    "execution": {
     "iopub.execute_input": "2024-02-20T16:27:56.462179Z",
     "iopub.status.busy": "2024-02-20T16:27:56.461488Z",
     "iopub.status.idle": "2024-02-20T16:47:52.388882Z",
     "shell.execute_reply": "2024-02-20T16:47:52.387146Z"
    },
    "id": "b5572f04",
    "outputId": "e7e8c443-0ec0-4d9e-c769-7c848291f9fe",
    "papermill": {
     "duration": 1195.939628,
     "end_time": "2024-02-20T16:47:52.391699",
     "exception": false,
     "start_time": "2024-02-20T16:27:56.452071",
     "status": "completed"
    },
    "tags": []
   },
   "outputs": [
    {
     "name": "stdout",
     "output_type": "stream",
     "text": [
      "Epoch [500/10000], Loss: 0.1107\n",
      "Epoch [1000/10000], Loss: 0.0326\n",
      "Epoch [1500/10000], Loss: 0.0244\n",
      "Epoch [2000/10000], Loss: 0.0216\n",
      "Epoch [2500/10000], Loss: 0.0207\n",
      "Epoch [3000/10000], Loss: 0.0204\n",
      "Epoch [3500/10000], Loss: 0.0203\n",
      "Epoch [4000/10000], Loss: 0.0202\n",
      "Epoch [4500/10000], Loss: 0.0201\n",
      "Epoch [5000/10000], Loss: 0.0201\n",
      "Epoch [5500/10000], Loss: 0.0201\n",
      "Epoch [6000/10000], Loss: 0.0200\n",
      "Epoch [6500/10000], Loss: 0.0199\n",
      "Epoch [7000/10000], Loss: 0.0189\n",
      "Epoch [7500/10000], Loss: 0.0122\n",
      "Epoch [8000/10000], Loss: 0.0090\n",
      "Epoch [8500/10000], Loss: 0.0085\n",
      "Epoch [9000/10000], Loss: 0.0085\n",
      "Epoch [9500/10000], Loss: 0.0084\n",
      "Epoch [10000/10000], Loss: 0.0084\n"
     ]
    }
   ],
   "source": [
    "\n",
    "\n",
    "\n",
    "class Bloch_Autoencoder(nn.Module):\n",
    "    def __init__(self):\n",
    "        super(Bloch_Autoencoder, self).__init__()\n",
    "        self.encoder = nn.Sequential(\n",
    "            nn.Linear(4, 2)  # 4 inputs to 2 nodes (bottleneck)\n",
    "        )\n",
    "        self.decoder = nn.Sequential(\n",
    "            nn.Linear(3, 4)  # 3 nodes to 4 outputs\n",
    "        )\n",
    "\n",
    "        self.q0 = torch.tensor([[1], [0]], dtype=torch.cfloat)\n",
    "\n",
    "\n",
    "\n",
    "    def forward(self, x):\n",
    "        x = self.encoder(x)\n",
    "\n",
    "        # Precompute trigonometric functions for all samples\n",
    "        cos_x0 = torch.cos(x[:, 0] / 2).unsqueeze(-1)\n",
    "        sin_x0 = torch.sin(x[:, 0] / 2).unsqueeze(-1)\n",
    "        cos_x1 = torch.cos(x[:, 1])\n",
    "        sin_x1 = torch.sin(x[:, 1])\n",
    "\n",
    "        # Create the encoded tensor for all samples\n",
    "        encoded = torch.zeros(x.size(0), 2, 2, dtype=torch.cfloat, device=x.device)\n",
    "        encoded[:, 0, 0] = cos_x0.squeeze()\n",
    "        encoded[:, 1, 0] = (cos_x1 + 1j * sin_x1) * sin_x0.squeeze()\n",
    "\n",
    "        # Apply matrix multiplication for all samples\n",
    "        qubit_1 = torch.matmul(encoded, self.q0).squeeze(-1)\n",
    "\n",
    "        # Extract real and imaginary parts for logits\n",
    "        real_part_1 = qubit_1.real\n",
    "        imaginary_part_1 = qubit_1.imag[:, 1:2]\n",
    "\n",
    "        # Concatenate real and imaginary parts\n",
    "        logits = torch.cat((real_part_1, imaginary_part_1), dim=-1)\n",
    "\n",
    "        x = self.decoder(logits)\n",
    "\n",
    "        return x\n",
    "\n",
    "# Instantiate the model, define loss function and optimizer\n",
    "model = Bloch_Autoencoder()\n",
    "criterion = nn.MSELoss()\n",
    "optimizer = optim.RMSprop(model.parameters(), lr=0.001)\n",
    "\n",
    "# Training the autoencoder\n",
    "num_epochs = 10000\n",
    "for epoch in range(num_epochs):\n",
    "    # Forward pass\n",
    "    outputs = model(X)\n",
    "    loss = criterion(outputs, X)\n",
    "\n",
    "    # Backward pass and optimization\n",
    "    optimizer.zero_grad()\n",
    "    loss.backward()\n",
    "    optimizer.step()\n",
    "\n",
    "    # Print progress\n",
    "    if (epoch+1) % 500 == 0:\n",
    "        print(f'Epoch [{epoch+1}/{num_epochs}], Loss: {loss.item():.4f}')"
   ]
  },
  {
   "cell_type": "markdown",
   "id": "4638be58",
   "metadata": {},
   "source": [
    "MSE in Bloch encoding is almost two times lower than it's classical counterpart"
   ]
  }
 ],
 "metadata": {
  "colab": {
   "include_colab_link": true,
   "provenance": []
  },
  "kaggle": {
   "accelerator": "none",
   "dataSources": [],
   "dockerImageVersionId": 30646,
   "isGpuEnabled": false,
   "isInternetEnabled": true,
   "language": "python",
   "sourceType": "notebook"
  },
  "kernelspec": {
   "display_name": "Python 3 (ipykernel)",
   "language": "python",
   "name": "python3"
  },
  "language_info": {
   "codemirror_mode": {
    "name": "ipython",
    "version": 3
   },
   "file_extension": ".py",
   "mimetype": "text/x-python",
   "name": "python",
   "nbconvert_exporter": "python",
   "pygments_lexer": "ipython3",
   "version": "3.11.4"
  },
  "papermill": {
   "default_parameters": {},
   "duration": 1221.059418,
   "end_time": "2024-02-20T16:47:55.335858",
   "environment_variables": {},
   "exception": null,
   "input_path": "__notebook__.ipynb",
   "output_path": "__notebook__.ipynb",
   "parameters": {},
   "start_time": "2024-02-20T16:27:34.276440",
   "version": "2.5.0"
  }
 },
 "nbformat": 4,
 "nbformat_minor": 5
}
