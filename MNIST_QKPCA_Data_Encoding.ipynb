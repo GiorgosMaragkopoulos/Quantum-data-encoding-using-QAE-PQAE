{
  "cells": [
    {
      "cell_type": "markdown",
      "source": [
        "# PCA-embedded quantum autoencoder (PQAE) for encoding the MNIST dataset in a variational quantum circuit (VQC)"
      ],
      "metadata": {
        "id": "btTGTVMfRI5y"
      },
      "id": "btTGTVMfRI5y"
    },
    {
      "cell_type": "markdown",
      "id": "496a60c6",
      "metadata": {
        "id": "496a60c6"
      },
      "source": [
        "In this jupyter notebook, I present the implementation of a PCA Quantum autoencoder (PQAE), which is used to encode data into a qiskit VQC. There will be a comparison between the performance of the VQC with the PQAE encoding VS without it (PCA). The dataset in this example is going to be the MNIST dataset, which is transformed to a binary classification problem."
      ]
    },
    {
      "cell_type": "code",
      "source": [
        "%%capture\n",
        "!pip install qiskit_algorithms\n",
        "!pip install qiskit_machine_learning"
      ],
      "metadata": {
        "id": "RzY1Yz-yxoOS"
      },
      "id": "RzY1Yz-yxoOS",
      "execution_count": null,
      "outputs": []
    },
    {
      "cell_type": "code",
      "source": [
        "import torch\n",
        "import numpy as np\n",
        "from torchvision import datasets\n",
        "import torchvision.transforms as transforms\n",
        "from sklearn.decomposition import KernelPCA , PCA\n",
        "from qiskit_machine_learning.kernels import FidelityQuantumKernel\n",
        "from qiskit_algorithms.state_fidelities import ComputeUncompute\n",
        "from qiskit.primitives import Sampler\n",
        "import random\n",
        "from sklearn.preprocessing import MinMaxScaler\n",
        "import pandas as pd\n",
        "import seaborn as sns\n",
        "from sklearn.model_selection import train_test_split\n",
        "from qiskit_algorithms.utils import algorithm_globals\n",
        "from sklearn.svm import SVC\n",
        "from qiskit.circuit.library import ZZFeatureMap , RealAmplitudes\n",
        "from qiskit.primitives import Sampler\n",
        "from qiskit_algorithms.optimizers import COBYLA\n",
        "from matplotlib import pyplot as plt\n",
        "from IPython.display import clear_output\n",
        "import time\n",
        "from qiskit_machine_learning.algorithms.classifiers import VQC\n",
        "from qiskit_algorithms.optimizers import COBYLA\n",
        "import copy\n",
        "import torch.nn as nn\n",
        "import torch.nn.functional as F\n",
        "from sklearn.datasets import load_digits"
      ],
      "metadata": {
        "id": "XSxxCiccxrLh"
      },
      "id": "XSxxCiccxrLh",
      "execution_count": null,
      "outputs": []
    },
    {
      "cell_type": "markdown",
      "source": [
        "## Set a random seed for reproducibility"
      ],
      "metadata": {
        "id": "3XLKgchczEa6"
      },
      "id": "3XLKgchczEa6"
    },
    {
      "cell_type": "code",
      "source": [
        "# Function to set seeds for reproducibility\n",
        "def set_seed(seed):\n",
        "    random.seed(seed)\n",
        "    np.random.seed(seed)\n",
        "    torch.manual_seed(seed)\n",
        "    torch.cuda.manual_seed(seed)\n",
        "    torch.backends.cudnn.deterministic = True\n",
        "    torch.backends.cudnn.benchmark = False\n",
        "    algorithm_globals.random_seed = seed\n",
        "\n",
        "\n",
        "# Set seeds\n",
        "set_seed(2)"
      ],
      "metadata": {
        "id": "jaXr-S-gyuLD"
      },
      "id": "jaXr-S-gyuLD",
      "execution_count": null,
      "outputs": []
    },
    {
      "cell_type": "markdown",
      "source": [
        "## MNIST dataset\n",
        "\n",
        "Each sample in sklearn's version of MNIST dataset is a grayscale image of a handwritten digit, represented by 8x8 pixels, for a total of 64 pixel values. The goal of this classification task is to predict the digit (0-1) depicted in each image based on these pixel values."
      ],
      "metadata": {
        "id": "ZFupRg9dzMRb"
      },
      "id": "ZFupRg9dzMRb"
    },
    {
      "cell_type": "code",
      "execution_count": null,
      "id": "ebeb3660",
      "metadata": {
        "id": "ebeb3660"
      },
      "outputs": [],
      "source": [
        "digit_data = load_digits()"
      ]
    },
    {
      "cell_type": "code",
      "execution_count": null,
      "id": "mobile-dictionary",
      "metadata": {
        "id": "mobile-dictionary"
      },
      "outputs": [],
      "source": [
        "features = digit_data.data\n",
        "labels = digit_data.target\n",
        "\n",
        "mask = np.isin(labels, [0, 1])\n",
        "features = features[mask]\n",
        "labels = labels[mask]"
      ]
    },
    {
      "cell_type": "code",
      "execution_count": null,
      "id": "alternative-preliminary",
      "metadata": {
        "id": "alternative-preliminary"
      },
      "outputs": [],
      "source": [
        "features = MinMaxScaler().fit_transform(features) # Normalize using MinMaxScaler"
      ]
    },
    {
      "cell_type": "markdown",
      "id": "12c457ae",
      "metadata": {
        "id": "12c457ae"
      },
      "source": [
        "We split the data in three sets (train-val-test) with a (70%-10%-20%) split. The validation split is going to be needed for the PQAE part and not for the PCA part. Nonetheless, we make the split from now, so that the train and test datasets will be the same."
      ]
    },
    {
      "cell_type": "code",
      "execution_count": null,
      "id": "261aaa6f",
      "metadata": {
        "id": "261aaa6f"
      },
      "outputs": [],
      "source": [
        "train_size = 252\n",
        "val_size = 36\n",
        "test_size = 72\n",
        "\n",
        "\n",
        "train_features, remaining_features, train_labels, remaining_labels = train_test_split(\n",
        "    features, labels, train_size=train_size, random_state=algorithm_globals.random_seed , stratify=labels\n",
        ")\n",
        "\n",
        "val_features, test_features, val_labels, test_labels = train_test_split(\n",
        "    remaining_features, remaining_labels, test_size=test_size, random_state=algorithm_globals.random_seed, stratify=remaining_labels\n",
        ")"
      ]
    },
    {
      "cell_type": "markdown",
      "source": [
        "# SVC training for comparison reasons"
      ],
      "metadata": {
        "id": "8Dotfx_WlwNh"
      },
      "id": "8Dotfx_WlwNh"
    },
    {
      "cell_type": "markdown",
      "id": "close-festival",
      "metadata": {
        "id": "close-festival"
      },
      "source": [
        "We train a classical Support Vector Classifier from scikit-learn. For the sake of simplicity, we don't tweak any parameters and rely on the default values."
      ]
    },
    {
      "cell_type": "code",
      "execution_count": null,
      "id": "proved-reviewer",
      "metadata": {
        "id": "proved-reviewer"
      },
      "outputs": [],
      "source": [
        "svc = SVC()\n",
        "_ = svc.fit(train_features, train_labels)  # suppress printing the return value"
      ]
    },
    {
      "cell_type": "markdown",
      "id": "earned-destination",
      "metadata": {
        "id": "earned-destination"
      },
      "source": [
        "Now we check out how well our classical model performs. We will analyze the scores in the conclusion section."
      ]
    },
    {
      "cell_type": "code",
      "execution_count": null,
      "id": "veterinary-proxy",
      "metadata": {
        "colab": {
          "base_uri": "https://localhost:8080/"
        },
        "id": "veterinary-proxy",
        "outputId": "e7486a27-3a68-4804-b7dc-f85eb921d78f"
      },
      "outputs": [
        {
          "output_type": "stream",
          "name": "stdout",
          "text": [
            "Classical SVC on the training dataset: 1.00\n",
            "Classical SVC on the test dataset:     1.00\n"
          ]
        }
      ],
      "source": [
        "train_score_c4 = svc.score(train_features, train_labels)\n",
        "test_score_c4 = svc.score(test_features, test_labels)\n",
        "\n",
        "print(f\"Classical SVC on the training dataset: {train_score_c4:.2f}\")\n",
        "print(f\"Classical SVC on the test dataset:     {test_score_c4:.2f}\")"
      ]
    },
    {
      "cell_type": "markdown",
      "id": "cc5e3091",
      "metadata": {
        "id": "cc5e3091"
      },
      "source": [
        "# Raw/PCA qiskit\n",
        "\n",
        "Here we are going to use the PCA reduced data, before passing them in the VQC."
      ]
    },
    {
      "cell_type": "markdown",
      "source": [
        "## VQC set up\n",
        "\n",
        "To set up the components for the VQC model, we utilize a ZZFeatureMap for quantum feature mapping, RealAmplitudes as the ansatz function, and the COBYLA optimizer. The feature map is created according to the dimensions of the input data, while the ansatz function is configured with three repetitions.\n",
        "\n",
        "The COBYLA optimizer is configured to perform up to 100 iterations. The dataset is then split into training and test sets with an 80-20 ratio using the train_test_split function, ensuring consistency with a fixed random seed. Together, these components configure the VQC model and prepare the dataset for both training and evaluation."
      ],
      "metadata": {
        "id": "2vkBwVWjzv1s"
      },
      "id": "2vkBwVWjzv1s"
    },
    {
      "cell_type": "code",
      "execution_count": null,
      "id": "optional-pocket",
      "metadata": {
        "id": "optional-pocket"
      },
      "outputs": [],
      "source": [
        "num_features = 4\n",
        "\n",
        "feature_map = ZZFeatureMap(feature_dimension=num_features, reps=1)"
      ]
    },
    {
      "cell_type": "markdown",
      "source": [
        "The RealAmplitudes ansatz will have 3 reps"
      ],
      "metadata": {
        "id": "r0Z3NVeez4zb"
      },
      "id": "r0Z3NVeez4zb"
    },
    {
      "cell_type": "code",
      "execution_count": null,
      "id": "elder-interaction",
      "metadata": {
        "id": "elder-interaction"
      },
      "outputs": [],
      "source": [
        "ansatz = RealAmplitudes(num_qubits=num_features, reps=3)"
      ]
    },
    {
      "cell_type": "code",
      "execution_count": null,
      "id": "intimate-doubt",
      "metadata": {
        "id": "intimate-doubt"
      },
      "outputs": [],
      "source": [
        "q_optimizer = COBYLA(maxiter=100)"
      ]
    },
    {
      "cell_type": "code",
      "execution_count": null,
      "id": "unauthorized-footwear",
      "metadata": {
        "id": "unauthorized-footwear"
      },
      "outputs": [],
      "source": [
        "sampler = Sampler()"
      ]
    },
    {
      "cell_type": "code",
      "execution_count": null,
      "id": "connected-reach",
      "metadata": {
        "id": "connected-reach"
      },
      "outputs": [],
      "source": [
        "objective_func_vals = []\n",
        "plt.rcParams[\"figure.figsize\"] = (12, 6)\n",
        "\n",
        "\n",
        "def callback_graph(weights, obj_func_eval):\n",
        "    clear_output(wait=True)\n",
        "    objective_func_vals.append(obj_func_eval)\n",
        "    plt.title(\"Objective function value against iteration\")\n",
        "    plt.xlabel(\"Iteration\")\n",
        "    plt.ylabel(\"Objective function value\")\n",
        "    plt.plot(range(len(objective_func_vals)), objective_func_vals)\n",
        "    plt.show()"
      ]
    },
    {
      "cell_type": "markdown",
      "source": [
        "Here we reduce the data to 4 components using PCA"
      ],
      "metadata": {
        "id": "sdBUNmmtz-lL"
      },
      "id": "sdBUNmmtz-lL"
    },
    {
      "cell_type": "code",
      "execution_count": null,
      "id": "pz9BECP2XfIu",
      "metadata": {
        "id": "pz9BECP2XfIu"
      },
      "outputs": [],
      "source": [
        "pca = PCA(n_components=4)\n",
        "train_features_pca = pca.fit_transform(train_features)\n",
        "test_features_pca = pca.transform(test_features)\n"
      ]
    },
    {
      "cell_type": "markdown",
      "source": [
        "The VQC is ran here"
      ],
      "metadata": {
        "id": "POkrOsk00EtC"
      },
      "id": "POkrOsk00EtC"
    },
    {
      "cell_type": "code",
      "execution_count": null,
      "id": "multiple-garbage",
      "metadata": {
        "colab": {
          "base_uri": "https://localhost:8080/",
          "height": 581
        },
        "id": "multiple-garbage",
        "outputId": "d3cac24f-89d5-4c52-bf6f-12e613b9c970"
      },
      "outputs": [
        {
          "output_type": "display_data",
          "data": {
            "text/plain": [
              "<Figure size 1200x600 with 1 Axes>"
            ],
            "image/png": "[encoded data removed]"
          },
          "metadata": {}
        },
        {
          "output_type": "stream",
          "name": "stdout",
          "text": [
            "Training time: 212 seconds\n"
          ]
        }
      ],
      "source": [
        "vqc = VQC(\n",
        "    sampler=sampler,\n",
        "    feature_map=feature_map,\n",
        "    ansatz=ansatz,\n",
        "    optimizer=q_optimizer,\n",
        "    callback=callback_graph,\n",
        ")\n",
        "\n",
        "# clear objective value history\n",
        "objective_func_vals = []\n",
        "\n",
        "start = time.time()\n",
        "vqc.fit(train_features_pca, train_labels)\n",
        "elapsed = time.time() - start\n",
        "\n",
        "print(f\"Training time: {round(elapsed)} seconds\")"
      ]
    },
    {
      "cell_type": "markdown",
      "id": "laughing-regulation",
      "metadata": {
        "id": "laughing-regulation"
      },
      "source": [
        "Let's see how the quantum model performs on the real-life dataset."
      ]
    },
    {
      "cell_type": "code",
      "execution_count": null,
      "id": "formed-mineral",
      "metadata": {
        "colab": {
          "base_uri": "https://localhost:8080/"
        },
        "id": "formed-mineral",
        "outputId": "36feeb69-f10c-44b6-a154-cecc39a4de2e"
      },
      "outputs": [
        {
          "output_type": "stream",
          "name": "stdout",
          "text": [
            "Quantum VQC on the training dataset: 0.79\n",
            "Quantum VQC on the test dataset:     0.80\n"
          ]
        }
      ],
      "source": [
        "train_score_q4 = vqc.score(train_features_pca, train_labels)\n",
        "test_score_q4 = vqc.score(test_features_pca, test_labels)\n",
        "\n",
        "print(f\"Quantum VQC on the training dataset: {train_score_q4:.2f}\")\n",
        "print(f\"Quantum VQC on the test dataset:     {test_score_q4:.2f}\")"
      ]
    },
    {
      "cell_type": "markdown",
      "id": "dc14ab01",
      "metadata": {
        "id": "dc14ab01"
      },
      "source": [
        "According to these 10 random seeds, the highest test score without PQAE is 72.5%. Ofcourse, if we measured another 10 seeds it could be possible that a higher accuracy is achieved."
      ]
    },
    {
      "cell_type": "markdown",
      "id": "Y78Kz_Sxih3h",
      "metadata": {
        "id": "Y78Kz_Sxih3h"
      },
      "source": [
        "#  PCA Quantum Autoencoder"
      ]
    },
    {
      "cell_type": "markdown",
      "id": "3f8cfa87",
      "metadata": {
        "id": "3f8cfa87",
        "outputId": "0c6ae67e-aad9-40c6-f594-3fe0fc5a312f"
      },
      "source": [
        "Now we will present and implement our novel data encoding algorithm called PQAE. Because we intend to use 4 qubits, and the number of features in MNIST is 64, we will start with an encoder which is 64x4 (the connection of input to hidden layers). Then, these values are going to be passed through the featue map and kernel PCA will be used to reduce the dimensionality to 4. Then, a 4x64 decoding layer generates the output. This type of network encodes the classical data to 4 qubits.  "
      ]
    },
    {
      "cell_type": "code",
      "execution_count": null,
      "id": "AleP3AjEik7Q",
      "metadata": {
        "id": "AleP3AjEik7Q"
      },
      "outputs": [],
      "source": [
        "seed = 13\n",
        "torch.manual_seed(seed)\n",
        "torch.backends.cudnn.deterministic = True\n",
        "torch.backends.cudnn.benchmark = False\n",
        "\n",
        "# If using CUDA (GPU), you should also set the seed for CUDA\n",
        "if torch.cuda.is_available():\n",
        "    torch.cuda.manual_seed(seed)\n",
        "    torch.cuda.manual_seed_all(seed)\n",
        "\n",
        "\n",
        "\n",
        "# convert data to torch.FloatTensor\n",
        "transform = transforms.ToTensor()\n",
        "# number of subprocesses to use for data loading\n",
        "num_workers = 0\n",
        "# how many samples per batch to load\n",
        "batch_size =20\n",
        "\n",
        "# prepare data loaders\n",
        "train_loader = torch.utils.data.DataLoader(torch.tensor(np.array(train_features) ), batch_size=batch_size, num_workers=num_workers)\n",
        "val_loader = torch.utils.data.DataLoader(torch.tensor(np.array(val_features) ), batch_size=batch_size, num_workers=num_workers)\n",
        "test_loader = torch.utils.data.DataLoader(torch.tensor(np.array(test_features) ), batch_size=batch_size, num_workers=num_workers)\n",
        "\n",
        "\n",
        "# define the NN architecture\n",
        "class Autoencoder(nn.Module):\n",
        "    def __init__(self):\n",
        "        super(Autoencoder, self).__init__()\n",
        "        ## encoder ##\n",
        "        self.input = nn.Linear(64, 4, dtype=torch.float64)\n",
        "\n",
        "        ## decoder ##\n",
        "        self.decoder = nn.Linear(4,64, dtype=torch.float64)\n",
        "\n",
        "\n",
        "        # Define the qubit states as column vectors\n",
        "        self.q0 = torch.tensor([[1], [0]], dtype=torch.cfloat)\n",
        "        self.q1 = torch.tensor([[0], [1]], dtype=torch.cfloat)\n",
        "\n",
        "        # Define the Pauli matrices\n",
        "        self.sigma1 = torch.tensor([[1, 0], [0, 1]], dtype=torch.complex64)\n",
        "        self.sigma2 = torch.tensor([[0, 1], [1, 0]], dtype=torch.complex64)\n",
        "        self.sigma3 = torch.tensor([[0, -1j], [1j, 0]], dtype=torch.complex64)\n",
        "        self.sigma4 = torch.tensor([[1, 0], [0, -1]], dtype=torch.complex64)\n",
        "\n",
        "        self.hadamard_gate = 1 / torch.sqrt(torch.tensor(2) ) * torch.tensor([[1, 1], [1, -1]], dtype=torch.complex64)\n",
        "\n",
        "        # Define the CNOT gate\n",
        "        self.cnot_gate = torch.tensor([[1, 0, 0, 0],\n",
        "                                       [0, 1, 0, 0],\n",
        "                                       [0, 0, 0, 1],\n",
        "                                       [0, 0, 1, 0]], dtype=torch.complex64)\n",
        "\n",
        "\n",
        "\n",
        "        # Collect the Pauli matrices in a list\n",
        "        self.generators = [ self.sigma2, self.sigma3, self.sigma4 ]\n",
        "\n",
        "\n",
        "\n",
        "    def forward(self, x):\n",
        "        # define feedforward behavior\n",
        "        x = self.input(x)    # Here the data are reduced from 64 to 4, which is the number of qubits\n",
        "\n",
        "        sampler = Sampler()     # Initialize a sampler which samples from the quantum circuit.\n",
        "        fidelity = ComputeUncompute(sampler=sampler) # ComputeUncompute is a method that uses the compute-uncompute technique to estimate the fidelity.\n",
        "\n",
        "        # The ZZFeatureMap maps classical data to a quantum state. The 'feature_dimension' parameter specifies the\n",
        "        # dimensionality of the input data, and 'reps' indicates the number of repetitions of the feature map.\n",
        "        feature_map = ZZFeatureMap(feature_dimension=4, reps=1)\n",
        "\n",
        "        # Initialize the quantum kernel with the specified fidelity computation method and feature map.\n",
        "        # The FidelityQuantumKernel calculates the kernel matrix for quantum data using the fidelity metric.\n",
        "        qpca_kernel = FidelityQuantumKernel(fidelity=fidelity, feature_map=feature_map)\n",
        "\n",
        "        # Evaluate the kernel matrix for the training data.\n",
        "        # x.detach().numpy() converts the input tensor 'x' to a numpy array.\n",
        "        matrix_train = qpca_kernel.evaluate(x_vec=x.detach().numpy())\n",
        "\n",
        "        # Initialize KernelPCA with the number of components and kernel type.\n",
        "        # KernelPCA is a variant of Principal Component Analysis that uses kernel methods to perform\n",
        "        # dimensionality reduction in high-dimensional feature spaces. The 'precomputed' kernel indicates\n",
        "        # that we will provide a precomputed kernel matrix instead of calculating it internally.\n",
        "        kernel_pca_q = KernelPCA(n_components=4, kernel=\"precomputed\")\n",
        "\n",
        "        # Fit KernelPCA on the precomputed kernel matrix and transform the training data.\n",
        "        # This step reduces the dimensionality of the training data to the specified number of components.\n",
        "        train_features_q = kernel_pca_q.fit_transform(matrix_train)\n",
        "        logits_pca = torch.tensor(train_features_q,dtype=torch.double)\n",
        "\n",
        "        out = self.decoder(logits_pca).to(torch.float64) # The data are decoded back to 64 dimensions\n",
        "\n",
        "\n",
        "        return out\n",
        "\n",
        "\n",
        "\n",
        "\n",
        "    def forward_2(self, x):\n",
        "        # Here we are stopping on the reduced weights before the KernelPCA. The output neurons of this method will be the input for the VQC\n",
        "        x = self.input(x)\n",
        "\n",
        "\n",
        "\n",
        "\n",
        "        return x"
      ]
    },
    {
      "cell_type": "markdown",
      "source": [
        "After defining the PQAE class, we need to optimize the PQAE using mean squared error as our loss function and Adam optimizer."
      ],
      "metadata": {
        "id": "ClA3Br810Upy"
      },
      "id": "ClA3Br810Upy"
    },
    {
      "cell_type": "code",
      "source": [
        "model = Autoencoder()\n",
        "\n",
        "criterion = nn.MSELoss()\n",
        "\n",
        "# specify loss function\n",
        "optimizer = torch.optim.Adam(model.parameters(), lr=0.001)\n",
        "\n",
        "# number of epochs to train the model\n",
        "n_epochs = 5\n",
        "\n",
        "best_model = copy.deepcopy(model)  # Initialize the best model with the current model\n",
        "best_val_loss = float('inf')  # Initialize with a high value\n",
        "\n",
        "for epoch in range(1, n_epochs+1):\n",
        "    # monitor training loss\n",
        "    train_loss = 0.0\n",
        "    val_loss = 0.0\n",
        "\n",
        "    ###################\n",
        "    # train the model #\n",
        "    ###################\n",
        "    model.train()\n",
        "    for data in train_loader:\n",
        "        optimizer.zero_grad()\n",
        "        outputs = model(data)\n",
        "        loss = criterion(outputs, images)\n",
        "        loss.backward()\n",
        "        optimizer.step()\n",
        "        train_loss += loss.item() * images.size(0)\n",
        "\n",
        "    # print avg training statistics\n",
        "    train_loss = train_loss / len(train_loader)\n",
        "\n",
        "    ######################\n",
        "    # validate the model #\n",
        "    ######################\n",
        "    model.eval()\n",
        "    for data in val_loader:\n",
        "        outputs = model(data)\n",
        "        loss = criterion(outputs, data)\n",
        "        val_loss += loss.item() * data.size(0)\n",
        "\n",
        "    # print avg validation statistics\n",
        "    val_loss = val_loss / len(val_loader)\n",
        "\n",
        "    print(\"Epoch\", epoch)\n",
        "    print(\"Train Loss:\", train_loss)\n",
        "    print(\"Validation Loss:\", val_loss)\n",
        "\n",
        "    # Check if the current model has a lower validation error\n",
        "    if val_loss < best_val_loss:\n",
        "        best_val_loss = val_loss\n",
        "        best_model = copy.deepcopy(model)"
      ],
      "metadata": {
        "id": "S7RMmoAT0J2G",
        "colab": {
          "base_uri": "https://localhost:8080/"
        },
        "outputId": "6771f92e-b078-469f-a096-94fed4b0c9bc"
      },
      "id": "S7RMmoAT0J2G",
      "execution_count": null,
      "outputs": [
        {
          "output_type": "stream",
          "name": "stdout",
          "text": [
            "Epoch 1\n",
            "Train Loss: 6.882820560037375\n",
            "Validation Loss: 7.053505285258385\n",
            "Epoch 2\n",
            "Train Loss: 6.615243772903245\n",
            "Validation Loss: 6.780872579994682\n",
            "Epoch 3\n",
            "Train Loss: 6.361051618311165\n",
            "Validation Loss: 6.521475045491546\n",
            "Epoch 4\n",
            "Train Loss: 6.119809646040676\n",
            "Validation Loss: 6.2751132243445\n",
            "Epoch 5\n",
            "Train Loss: 5.891123083419581\n",
            "Validation Loss: 6.04120556606487\n"
          ]
        }
      ]
    },
    {
      "cell_type": "markdown",
      "id": "266cbb44",
      "metadata": {
        "id": "266cbb44"
      },
      "source": [
        "Then we generate the data, before passing them in the VQC.\n",
        "\n"
      ]
    },
    {
      "cell_type": "code",
      "execution_count": null,
      "id": "bPJ1P7bXjVkM",
      "metadata": {
        "id": "bPJ1P7bXjVkM"
      },
      "outputs": [],
      "source": [
        "# Initialize pandas DataFrames to store predictions\n",
        "train_predictions_df = pd.DataFrame()\n",
        "test_predictions_df = pd.DataFrame()\n",
        "\n",
        "# monitor training loss\n",
        "train_loss = 0.0\n",
        "test_loss = 0.0\n",
        "\n",
        "###################\n",
        "# train the model #\n",
        "###################\n",
        "best_model.train()\n",
        "for data in train_loader:\n",
        "    optimizer.zero_grad()\n",
        "    outputs = best_model.forward_2(data)\n",
        "    train_loss += loss.item() * images.size(0)\n",
        "\n",
        "    # Append predictions to train_predictions_df\n",
        "    train_predictions_df = pd.concat([train_predictions_df, pd.DataFrame(outputs.detach().numpy())])\n",
        "\n",
        "######################\n",
        "# test the model #\n",
        "######################\n",
        "best_model.eval()\n",
        "for data in test_loader:\n",
        "    outputs = best_model.forward_2(data)\n",
        "\n",
        "\n",
        "    # Append predictions to test_predictions_df\n",
        "    test_predictions_df = pd.concat([test_predictions_df, pd.DataFrame(outputs.detach().numpy())])\n"
      ]
    },
    {
      "cell_type": "code",
      "execution_count": null,
      "id": "pGa5RQRRjwtc",
      "metadata": {
        "id": "pGa5RQRRjwtc"
      },
      "outputs": [],
      "source": [
        "q_optimizer = COBYLA(maxiter=100)"
      ]
    },
    {
      "cell_type": "markdown",
      "source": [
        "The same VQC structure is used, but now the data have been optimized to keep the outmost information after the encoding."
      ],
      "metadata": {
        "id": "OyNdyJpw0ddr"
      },
      "id": "OyNdyJpw0ddr"
    },
    {
      "cell_type": "code",
      "execution_count": null,
      "id": "09IpdcprkhhB",
      "metadata": {
        "colab": {
          "base_uri": "https://localhost:8080/",
          "height": 564
        },
        "id": "09IpdcprkhhB",
        "outputId": "32941fe1-8a18-4d8b-9597-e30006df8649"
      },
      "outputs": [
        {
          "output_type": "display_data",
          "data": {
            "text/plain": [
              "<Figure size 1200x600 with 1 Axes>"
            ],
            "image/png": "[encoded data removed]"
          },
          "metadata": {}
        }
      ],
      "source": [
        "vqc = VQC(\n",
        "    sampler=sampler,\n",
        "    feature_map=feature_map,\n",
        "    ansatz=ansatz,\n",
        "    optimizer=q_optimizer,\n",
        "    callback=callback_graph,\n",
        ")\n",
        "\n",
        "# clear objective value history\n",
        "objective_func_vals = []\n",
        "\n",
        "start = time.time()\n",
        "vqc.fit(train_predictions_df, train_labels)\n",
        "elapsed = time.time() - start"
      ]
    },
    {
      "cell_type": "code",
      "execution_count": null,
      "id": "GNePRPB5ktK4",
      "metadata": {
        "colab": {
          "base_uri": "https://localhost:8080/"
        },
        "id": "GNePRPB5ktK4",
        "outputId": "4074bf2d-de83-4c6c-eabb-a4eadf78df32"
      },
      "outputs": [
        {
          "output_type": "stream",
          "name": "stdout",
          "text": [
            "Quantum VQC on the training dataset: 0.90\n",
            "Quantum VQC on the test dataset:     0.93\n"
          ]
        }
      ],
      "source": [
        "train_score_q4 = vqc.score(train_predictions_df, train_labels)\n",
        "test_score_q4 = vqc.score(test_predictions_df, test_labels)\n",
        "\n",
        "print(f\"Quantum VQC on the training dataset: {train_score_q4:.2f}\")\n",
        "print(f\"Quantum VQC on the test dataset:     {test_score_q4:.2f}\")"
      ]
    },
    {
      "cell_type": "markdown",
      "id": "6a8e399d",
      "metadata": {
        "id": "6a8e399d"
      },
      "source": [
        "It turns out that the best performing model after encoding the data through PQAE is 93%. Completely outclassing the PCA encoding one which was 80%"
      ]
    }
  ],
  "metadata": {
    "celltoolbar": "Tags",
    "colab": {
      "provenance": []
    },
    "kernelspec": {
      "display_name": "Python 3 (ipykernel)",
      "language": "python",
      "name": "python3"
    },
    "language_info": {
      "codemirror_mode": {
        "name": "ipython",
        "version": 3
      },
      "file_extension": ".py",
      "mimetype": "text/x-python",
      "name": "python",
      "nbconvert_exporter": "python",
      "pygments_lexer": "ipython3",
      "version": "3.11.4"
    },
    "vscode": {
      "interpreter": {
        "hash": "e2eee1ec3b7b75618be3bcd737c6b000914c302a788483aeea47c6724501a27e"
      }
    }
  },
  "nbformat": 4,
  "nbformat_minor": 5
}