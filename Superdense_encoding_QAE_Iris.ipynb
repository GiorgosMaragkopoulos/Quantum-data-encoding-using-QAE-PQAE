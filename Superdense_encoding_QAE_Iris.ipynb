{
  "cells": [
    {
      "cell_type": "markdown",
      "metadata": {
        "id": "view-in-github",
        "colab_type": "text"
      },
      "source": [
        "<a href=\"https://colab.research.google.com/github/GiorgosMaragkopoulos/Quantum-data-encoding-using-QAE-PQAE/blob/main/Superdense_encoding_QAE_Iris.ipynb\" target=\"_parent\"><img src=\"https://colab.research.google.com/assets/colab-badge.svg\" alt=\"Open In Colab\"/></a>"
      ]
    },
    {
      "cell_type": "code",
      "execution_count": 9,
      "id": "0739b0b3",
      "metadata": {
        "execution": {
          "iopub.execute_input": "2024-02-20T16:27:37.660065Z",
          "iopub.status.busy": "2024-02-20T16:27:37.659480Z",
          "iopub.status.idle": "2024-02-20T16:27:56.429903Z",
          "shell.execute_reply": "2024-02-20T16:27:56.428184Z"
        },
        "papermill": {
          "duration": 18.779491,
          "end_time": "2024-02-20T16:27:56.432694",
          "exception": false,
          "start_time": "2024-02-20T16:27:37.653203",
          "status": "completed"
        },
        "tags": [],
        "colab": {
          "base_uri": "https://localhost:8080/",
          "height": 543
        },
        "id": "0739b0b3",
        "outputId": "cb81e283-eda6-48f9-af82-c4da06fcf848"
      },
      "outputs": [
        {
          "output_type": "stream",
          "name": "stdout",
          "text": [
            "Epoch [500/10000], Loss: 0.2664\n",
            "Epoch [1000/10000], Loss: 0.0423\n",
            "Epoch [1500/10000], Loss: 0.0419\n",
            "Epoch [2000/10000], Loss: 0.0419\n",
            "Epoch [2500/10000], Loss: 0.0419\n",
            "Epoch [3000/10000], Loss: 0.0419\n",
            "Epoch [3500/10000], Loss: 0.0419\n",
            "Epoch [4000/10000], Loss: 0.0419\n",
            "Epoch [4500/10000], Loss: 0.0419\n",
            "Epoch [5000/10000], Loss: 0.0419\n"
          ]
        },
        {
          "output_type": "error",
          "ename": "KeyboardInterrupt",
          "evalue": "",
          "traceback": [
            "\u001b[0;31m---------------------------------------------------------------------------\u001b[0m",
            "\u001b[0;31mKeyboardInterrupt\u001b[0m                         Traceback (most recent call last)",
            "\u001b[0;32m<ipython-input-9-384e2e8dcc13>\u001b[0m in \u001b[0;36m<cell line: 51>\u001b[0;34m()\u001b[0m\n\u001b[1;32m     56\u001b[0m     \u001b[0;31m# Backward pass and optimization\u001b[0m\u001b[0;34m\u001b[0m\u001b[0;34m\u001b[0m\u001b[0m\n\u001b[1;32m     57\u001b[0m     \u001b[0moptimizer\u001b[0m\u001b[0;34m.\u001b[0m\u001b[0mzero_grad\u001b[0m\u001b[0;34m(\u001b[0m\u001b[0;34m)\u001b[0m\u001b[0;34m\u001b[0m\u001b[0;34m\u001b[0m\u001b[0m\n\u001b[0;32m---> 58\u001b[0;31m     \u001b[0mloss\u001b[0m\u001b[0;34m.\u001b[0m\u001b[0mbackward\u001b[0m\u001b[0;34m(\u001b[0m\u001b[0;34m)\u001b[0m\u001b[0;34m\u001b[0m\u001b[0;34m\u001b[0m\u001b[0m\n\u001b[0m\u001b[1;32m     59\u001b[0m     \u001b[0moptimizer\u001b[0m\u001b[0;34m.\u001b[0m\u001b[0mstep\u001b[0m\u001b[0;34m(\u001b[0m\u001b[0;34m)\u001b[0m\u001b[0;34m\u001b[0m\u001b[0;34m\u001b[0m\u001b[0m\n\u001b[1;32m     60\u001b[0m \u001b[0;34m\u001b[0m\u001b[0m\n",
            "\u001b[0;32m/usr/local/lib/python3.10/dist-packages/torch/_tensor.py\u001b[0m in \u001b[0;36mbackward\u001b[0;34m(self, gradient, retain_graph, create_graph, inputs)\u001b[0m\n\u001b[1;32m    519\u001b[0m                 \u001b[0minputs\u001b[0m\u001b[0;34m=\u001b[0m\u001b[0minputs\u001b[0m\u001b[0;34m,\u001b[0m\u001b[0;34m\u001b[0m\u001b[0;34m\u001b[0m\u001b[0m\n\u001b[1;32m    520\u001b[0m             )\n\u001b[0;32m--> 521\u001b[0;31m         torch.autograd.backward(\n\u001b[0m\u001b[1;32m    522\u001b[0m             \u001b[0mself\u001b[0m\u001b[0;34m,\u001b[0m \u001b[0mgradient\u001b[0m\u001b[0;34m,\u001b[0m \u001b[0mretain_graph\u001b[0m\u001b[0;34m,\u001b[0m \u001b[0mcreate_graph\u001b[0m\u001b[0;34m,\u001b[0m \u001b[0minputs\u001b[0m\u001b[0;34m=\u001b[0m\u001b[0minputs\u001b[0m\u001b[0;34m\u001b[0m\u001b[0;34m\u001b[0m\u001b[0m\n\u001b[1;32m    523\u001b[0m         )\n",
            "\u001b[0;32m/usr/local/lib/python3.10/dist-packages/torch/autograd/__init__.py\u001b[0m in \u001b[0;36mbackward\u001b[0;34m(tensors, grad_tensors, retain_graph, create_graph, grad_variables, inputs)\u001b[0m\n\u001b[1;32m    287\u001b[0m     \u001b[0;31m# some Python versions print out the first line of a multi-line function\u001b[0m\u001b[0;34m\u001b[0m\u001b[0;34m\u001b[0m\u001b[0m\n\u001b[1;32m    288\u001b[0m     \u001b[0;31m# calls in the traceback and some print out the last line\u001b[0m\u001b[0;34m\u001b[0m\u001b[0;34m\u001b[0m\u001b[0m\n\u001b[0;32m--> 289\u001b[0;31m     _engine_run_backward(\n\u001b[0m\u001b[1;32m    290\u001b[0m         \u001b[0mtensors\u001b[0m\u001b[0;34m,\u001b[0m\u001b[0;34m\u001b[0m\u001b[0;34m\u001b[0m\u001b[0m\n\u001b[1;32m    291\u001b[0m         \u001b[0mgrad_tensors_\u001b[0m\u001b[0;34m,\u001b[0m\u001b[0;34m\u001b[0m\u001b[0;34m\u001b[0m\u001b[0m\n",
            "\u001b[0;32m/usr/local/lib/python3.10/dist-packages/torch/autograd/graph.py\u001b[0m in \u001b[0;36m_engine_run_backward\u001b[0;34m(t_outputs, *args, **kwargs)\u001b[0m\n\u001b[1;32m    766\u001b[0m         \u001b[0munregister_hooks\u001b[0m \u001b[0;34m=\u001b[0m \u001b[0m_register_logging_hooks_on_whole_graph\u001b[0m\u001b[0;34m(\u001b[0m\u001b[0mt_outputs\u001b[0m\u001b[0;34m)\u001b[0m\u001b[0;34m\u001b[0m\u001b[0;34m\u001b[0m\u001b[0m\n\u001b[1;32m    767\u001b[0m     \u001b[0;32mtry\u001b[0m\u001b[0;34m:\u001b[0m\u001b[0;34m\u001b[0m\u001b[0;34m\u001b[0m\u001b[0m\n\u001b[0;32m--> 768\u001b[0;31m         return Variable._execution_engine.run_backward(  # Calls into the C++ engine to run the backward pass\n\u001b[0m\u001b[1;32m    769\u001b[0m             \u001b[0mt_outputs\u001b[0m\u001b[0;34m,\u001b[0m \u001b[0;34m*\u001b[0m\u001b[0margs\u001b[0m\u001b[0;34m,\u001b[0m \u001b[0;34m**\u001b[0m\u001b[0mkwargs\u001b[0m\u001b[0;34m\u001b[0m\u001b[0;34m\u001b[0m\u001b[0m\n\u001b[1;32m    770\u001b[0m         )  # Calls into the C++ engine to run the backward pass\n",
            "\u001b[0;31mKeyboardInterrupt\u001b[0m: "
          ]
        }
      ],
      "source": [
        "import torch\n",
        "import torch.nn as nn\n",
        "import torch.optim as optim\n",
        "from sklearn import datasets\n",
        "from sklearn.model_selection import train_test_split\n",
        "from sklearn.preprocessing import StandardScaler ,MinMaxScaler , Normalizer\n",
        "from torch.nn.functional import normalize\n",
        "\n",
        "\n",
        "# Load Iris dataset\n",
        "iris = datasets.load_iris()\n",
        "X = iris.data\n",
        "y = iris.target\n",
        "\n",
        "scaler = StandardScaler()\n",
        "X = scaler.fit_transform(X)\n",
        "\n",
        "# Convert to PyTorch tensor before normalization\n",
        "#X = torch.tensor(normalize(torch.tensor(X, dtype=torch.float32), p=2, dim=1), dtype=torch.float32)\n",
        "normalizer = Normalizer(norm='l2')\n",
        "X = normalizer.fit_transform(X)\n",
        "\n",
        "\n",
        "# Convert to PyTorch tensors\n",
        "X = torch.tensor(X, dtype=torch.float32)\n",
        "\n",
        "# Define the autoencoder model\n",
        "class Autoencoder(nn.Module):\n",
        "    def __init__(self):\n",
        "        super(Autoencoder, self).__init__()\n",
        "        self.encoder = nn.Sequential(\n",
        "            nn.Linear(4, 2)  # 4 inputs to 3 nodes (bottleneck)\n",
        "        )\n",
        "        self.decoder = nn.Sequential(\n",
        "            nn.Linear(2, 4),  # 3 nodes to 4 outputs\n",
        "            nn.Linear(4, 4)\n",
        "        )\n",
        "\n",
        "    def forward(self, x):\n",
        "        x = self.encoder(x)\n",
        "        x = self.decoder(x)\n",
        "        return x\n",
        "\n",
        "# Instantiate the model, define loss function and optimizer\n",
        "model = Autoencoder()\n",
        "criterion = nn.MSELoss()\n",
        "optimizer = optim.RMSprop(model.parameters(), lr=0.001)\n",
        "\n",
        "# Training the autoencoder\n",
        "num_epochs = 10000\n",
        "for epoch in range(num_epochs):\n",
        "    # Forward pass\n",
        "    outputs = model(X)\n",
        "    loss = criterion(outputs, X)\n",
        "\n",
        "    # Backward pass and optimization\n",
        "    optimizer.zero_grad()\n",
        "    loss.backward()\n",
        "    optimizer.step()\n",
        "\n",
        "    # Print progress\n",
        "    if (epoch+1) % 500 == 0:\n",
        "        print(f'Epoch [{epoch+1}/{num_epochs}], Loss: {loss.item():.4f}')\n"
      ]
    },
    {
      "cell_type": "markdown",
      "source": [
        "# Polynomial feature map"
      ],
      "metadata": {
        "id": "1Gx-slHMSD40"
      },
      "id": "1Gx-slHMSD40"
    },
    {
      "cell_type": "code",
      "execution_count": 10,
      "id": "d984ef13",
      "metadata": {
        "papermill": {
          "duration": 0.006233,
          "end_time": "2024-02-20T16:27:56.445681",
          "exception": false,
          "start_time": "2024-02-20T16:27:56.439448",
          "status": "completed"
        },
        "tags": [],
        "id": "d984ef13",
        "outputId": "f373629f-a2d4-4c3d-dd2e-3a495447b7ae",
        "colab": {
          "base_uri": "https://localhost:8080/"
        }
      },
      "outputs": [
        {
          "output_type": "stream",
          "name": "stdout",
          "text": [
            "Epoch [500/10000], Loss: 0.2037\n",
            "Epoch [1000/10000], Loss: 0.1835\n",
            "Epoch [1500/10000], Loss: 0.1435\n",
            "Epoch [2000/10000], Loss: 0.1095\n",
            "Epoch [2500/10000], Loss: 0.0847\n",
            "Epoch [3000/10000], Loss: 0.0679\n",
            "Epoch [3500/10000], Loss: 0.0578\n",
            "Epoch [4000/10000], Loss: 0.0519\n",
            "Epoch [4500/10000], Loss: 0.0484\n",
            "Epoch [5000/10000], Loss: 0.0464\n",
            "Epoch [5500/10000], Loss: 0.0452\n",
            "Epoch [6000/10000], Loss: 0.0444\n",
            "Epoch [6500/10000], Loss: 0.0439\n",
            "Epoch [7000/10000], Loss: 0.0434\n",
            "Epoch [7500/10000], Loss: 0.0431\n",
            "Epoch [8000/10000], Loss: 0.0428\n",
            "Epoch [8500/10000], Loss: 0.0426\n",
            "Epoch [9000/10000], Loss: 0.0424\n",
            "Epoch [9500/10000], Loss: 0.0422\n",
            "Epoch [10000/10000], Loss: 0.0421\n"
          ]
        }
      ],
      "source": [
        "class Clifford_Autoencoder(nn.Module):\n",
        "    def __init__(self):\n",
        "        super(Clifford_Autoencoder, self).__init__()\n",
        "        self.encoder = nn.Sequential(\n",
        "            nn.Linear(4, 2)  # 4 inputs to 2 nodes (bottleneck)\n",
        "        )\n",
        "        self.decoder = nn.Sequential(\n",
        "            nn.Linear(3, 4)  # 3 nodes to 4 outputs\n",
        "        )\n",
        "\n",
        "        self.q0 = torch.tensor([[1], [0]], dtype=torch.cfloat)\n",
        "\n",
        "    def forward(self, x):\n",
        "        x = self.encoder(x)\n",
        "\n",
        "        # Polynomial feature map\n",
        "        x1_square = x[:, 0:1] ** 2\n",
        "        x2_square = x[:, 1:2] ** 2\n",
        "        x1_x2 = x[:, 0:1] * x[:, 1:2]\n",
        "\n",
        "        # Combine the polynomial features\n",
        "        poly_features = torch.cat((x1_square, x2_square, x1_x2 ), dim=-1)\n",
        "\n",
        "        x = self.decoder(poly_features)\n",
        "\n",
        "        return x\n",
        "\n",
        "  # Instantiate the model, define loss function and optimizer\n",
        "model = Clifford_Autoencoder()\n",
        "criterion = nn.MSELoss()\n",
        "optimizer = optim.RMSprop(model.parameters(), lr=0.001)\n",
        "\n",
        "# Training the autoencoder\n",
        "num_epochs = 10000\n",
        "for epoch in range(num_epochs):\n",
        "    # Forward pass\n",
        "    outputs = model(X)\n",
        "    loss = criterion(outputs, X)\n",
        "\n",
        "    # Backward pass and optimization\n",
        "    optimizer.zero_grad()\n",
        "    loss.backward()\n",
        "    optimizer.step()\n",
        "\n",
        "    # Print progress\n",
        "    if (epoch+1) % 500 == 0:\n",
        "        print(f'Epoch [{epoch+1}/{num_epochs}], Loss: {loss.item():.4f}')"
      ]
    },
    {
      "cell_type": "code",
      "execution_count": 11,
      "id": "b5572f04",
      "metadata": {
        "execution": {
          "iopub.execute_input": "2024-02-20T16:27:56.462179Z",
          "iopub.status.busy": "2024-02-20T16:27:56.461488Z",
          "iopub.status.idle": "2024-02-20T16:47:52.388882Z",
          "shell.execute_reply": "2024-02-20T16:47:52.387146Z"
        },
        "papermill": {
          "duration": 1195.939628,
          "end_time": "2024-02-20T16:47:52.391699",
          "exception": false,
          "start_time": "2024-02-20T16:27:56.452071",
          "status": "completed"
        },
        "tags": [],
        "colab": {
          "base_uri": "https://localhost:8080/"
        },
        "id": "b5572f04",
        "outputId": "30c334c9-cdce-4631-995e-8e946aacb2cf"
      },
      "outputs": [
        {
          "output_type": "stream",
          "name": "stdout",
          "text": [
            "Epoch [500/10000], Loss: 0.1115\n",
            "Epoch [1000/10000], Loss: 0.0473\n",
            "Epoch [1500/10000], Loss: 0.0389\n",
            "Epoch [2000/10000], Loss: 0.0363\n",
            "Epoch [2500/10000], Loss: 0.0351\n",
            "Epoch [3000/10000], Loss: 0.0347\n",
            "Epoch [3500/10000], Loss: 0.0345\n",
            "Epoch [4000/10000], Loss: 0.0345\n",
            "Epoch [4500/10000], Loss: 0.0344\n",
            "Epoch [5000/10000], Loss: 0.0344\n",
            "Epoch [5500/10000], Loss: 0.0344\n",
            "Epoch [6000/10000], Loss: 0.0343\n",
            "Epoch [6500/10000], Loss: 0.0343\n",
            "Epoch [7000/10000], Loss: 0.0343\n",
            "Epoch [7500/10000], Loss: 0.0343\n",
            "Epoch [8000/10000], Loss: 0.0343\n",
            "Epoch [8500/10000], Loss: 0.0343\n",
            "Epoch [9000/10000], Loss: 0.0343\n",
            "Epoch [9500/10000], Loss: 0.0343\n",
            "Epoch [10000/10000], Loss: 0.0343\n"
          ]
        }
      ],
      "source": [
        "\n",
        "\n",
        "\n",
        "class Clifford_Autoencoder(nn.Module):\n",
        "    def __init__(self):\n",
        "        super(Clifford_Autoencoder, self).__init__()\n",
        "        self.encoder = nn.Sequential(\n",
        "            nn.Linear(4, 2)  # 4 inputs to 2 nodes (bottleneck)\n",
        "        )\n",
        "        self.decoder = nn.Sequential(\n",
        "            nn.Linear(5, 4)  # 3 nodes to 4 outputs\n",
        "        )\n",
        "\n",
        "        self.q0 = torch.tensor([[1], [0]], dtype=torch.cfloat)\n",
        "\n",
        "\n",
        "\n",
        "    def forward(self, x):\n",
        "        x = self.encoder(x)\n",
        "\n",
        "        # Precompute trigonometric functions for all samples\n",
        "        cos_x0 = torch.cos(x[:, 0] / 2).unsqueeze(-1)\n",
        "        sin_x0 = torch.sin(x[:, 0] / 2).unsqueeze(-1)\n",
        "        cos_x1 = torch.cos(x[:, 1])\n",
        "        sin_x1 = torch.sin(x[:, 1])\n",
        "\n",
        "        # Create the encoded tensor for all samples\n",
        "        encoded = torch.zeros(x.size(0), 2, 2, dtype=torch.cfloat, device=x.device)\n",
        "        encoded[:, 0, 0] = cos_x0.squeeze()\n",
        "        encoded[:, 1, 0] = (cos_x1 + 1j * sin_x1) * sin_x0.squeeze()\n",
        "\n",
        "        # Apply matrix multiplication for all samples\n",
        "        qubit_1 = torch.matmul(encoded, self.q0).squeeze(-1)\n",
        "\n",
        "        # Extract real and imaginary parts for logits\n",
        "        real_part_1 = qubit_1.real\n",
        "        imaginary_part_1 = qubit_1.imag[:, 1:2]\n",
        "        x1= x[:,0:1]\n",
        "        x2 = x[:,1:2]\n",
        "        # Concatenate real and imaginary parts\n",
        "        logits = torch.cat((real_part_1, imaginary_part_1,x1,x2), dim=-1)\n",
        "\n",
        "        x = self.decoder(logits)\n",
        "\n",
        "        return x\n",
        "\n",
        "# Instantiate the model, define loss function and optimizer\n",
        "model = Clifford_Autoencoder()\n",
        "criterion = nn.MSELoss()\n",
        "optimizer = optim.RMSprop(model.parameters(), lr=0.001)\n",
        "\n",
        "# Training the autoencoder\n",
        "num_epochs = 10000\n",
        "for epoch in range(num_epochs):\n",
        "    # Forward pass\n",
        "    outputs = model(X)\n",
        "    loss = criterion(outputs, X)\n",
        "\n",
        "    # Backward pass and optimization\n",
        "    optimizer.zero_grad()\n",
        "    loss.backward()\n",
        "    optimizer.step()\n",
        "\n",
        "    # Print progress\n",
        "    if (epoch+1) % 500 == 0:\n",
        "        print(f'Epoch [{epoch+1}/{num_epochs}], Loss: {loss.item():.4f}')"
      ]
    },
    {
      "cell_type": "code",
      "execution_count": null,
      "id": "a51ab838",
      "metadata": {
        "papermill": {
          "duration": 0.015559,
          "end_time": "2024-02-20T16:47:52.422745",
          "exception": false,
          "start_time": "2024-02-20T16:47:52.407186",
          "status": "completed"
        },
        "tags": [],
        "id": "a51ab838"
      },
      "outputs": [],
      "source": []
    },
    {
      "cell_type": "code",
      "execution_count": null,
      "id": "a03110fe",
      "metadata": {
        "execution": {
          "iopub.execute_input": "2024-02-20T16:47:52.457278Z",
          "iopub.status.busy": "2024-02-20T16:47:52.456791Z",
          "iopub.status.idle": "2024-02-20T16:47:52.469031Z",
          "shell.execute_reply": "2024-02-20T16:47:52.466963Z"
        },
        "papermill": {
          "duration": 0.033676,
          "end_time": "2024-02-20T16:47:52.472024",
          "exception": false,
          "start_time": "2024-02-20T16:47:52.438348",
          "status": "completed"
        },
        "tags": [],
        "id": "a03110fe",
        "outputId": "d3c8ea69-f36a-4724-fc05-c7c1d9432a06"
      },
      "outputs": [
        {
          "data": {
            "text/plain": [
              "9"
            ]
          },
          "execution_count": 3,
          "metadata": {},
          "output_type": "execute_result"
        }
      ],
      "source": [
        "9"
      ]
    },
    {
      "cell_type": "code",
      "execution_count": null,
      "id": "334d9e4c",
      "metadata": {
        "papermill": {
          "duration": 0.01909,
          "end_time": "2024-02-20T16:47:52.511628",
          "exception": false,
          "start_time": "2024-02-20T16:47:52.492538",
          "status": "completed"
        },
        "tags": [],
        "id": "334d9e4c"
      },
      "outputs": [],
      "source": []
    }
  ],
  "metadata": {
    "kaggle": {
      "accelerator": "none",
      "dataSources": [],
      "dockerImageVersionId": 30646,
      "isGpuEnabled": false,
      "isInternetEnabled": true,
      "language": "python",
      "sourceType": "notebook"
    },
    "kernelspec": {
      "display_name": "Python 3",
      "language": "python",
      "name": "python3"
    },
    "language_info": {
      "codemirror_mode": {
        "name": "ipython",
        "version": 3
      },
      "file_extension": ".py",
      "mimetype": "text/x-python",
      "name": "python",
      "nbconvert_exporter": "python",
      "pygments_lexer": "ipython3",
      "version": "3.10.13"
    },
    "papermill": {
      "default_parameters": {},
      "duration": 1221.059418,
      "end_time": "2024-02-20T16:47:55.335858",
      "environment_variables": {},
      "exception": null,
      "input_path": "__notebook__.ipynb",
      "output_path": "__notebook__.ipynb",
      "parameters": {},
      "start_time": "2024-02-20T16:27:34.276440",
      "version": "2.5.0"
    },
    "colab": {
      "provenance": [],
      "include_colab_link": true
    }
  },
  "nbformat": 4,
  "nbformat_minor": 5
}