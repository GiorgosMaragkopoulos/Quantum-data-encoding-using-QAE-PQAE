{
  "cells": [
    {
      "cell_type": "markdown",
      "metadata": {
        "id": "view-in-github",
        "colab_type": "text"
      },
      "source": [
        "<a href=\"https://colab.research.google.com/github/GiorgosMaragkopoulos/Quantum-data-encoding-using-QAE-PQAE/blob/main/Superdense_encoding_QAE_Iris.ipynb\" target=\"_parent\"><img src=\"https://colab.research.google.com/assets/colab-badge.svg\" alt=\"Open In Colab\"/></a>"
      ]
    },
    {
      "cell_type": "code",
      "execution_count": 5,
      "id": "0739b0b3",
      "metadata": {
        "execution": {
          "iopub.execute_input": "2024-02-20T16:27:37.660065Z",
          "iopub.status.busy": "2024-02-20T16:27:37.659480Z",
          "iopub.status.idle": "2024-02-20T16:27:56.429903Z",
          "shell.execute_reply": "2024-02-20T16:27:56.428184Z"
        },
        "papermill": {
          "duration": 18.779491,
          "end_time": "2024-02-20T16:27:56.432694",
          "exception": false,
          "start_time": "2024-02-20T16:27:37.653203",
          "status": "completed"
        },
        "tags": [],
        "colab": {
          "base_uri": "https://localhost:8080/"
        },
        "id": "0739b0b3",
        "outputId": "8b447e78-1f07-47c5-b839-a523b80f2732"
      },
      "outputs": [
        {
          "output_type": "stream",
          "name": "stdout",
          "text": [
            "Epoch [500/10000], Loss: 0.0458\n",
            "Epoch [1000/10000], Loss: 0.0419\n",
            "Epoch [1500/10000], Loss: 0.0419\n",
            "Epoch [2000/10000], Loss: 0.0419\n",
            "Epoch [2500/10000], Loss: 0.0419\n",
            "Epoch [3000/10000], Loss: 0.0419\n",
            "Epoch [3500/10000], Loss: 0.0419\n",
            "Epoch [4000/10000], Loss: 0.0419\n",
            "Epoch [4500/10000], Loss: 0.0419\n",
            "Epoch [5000/10000], Loss: 0.0419\n",
            "Epoch [5500/10000], Loss: 0.0419\n",
            "Epoch [6000/10000], Loss: 0.0419\n",
            "Epoch [6500/10000], Loss: 0.0419\n",
            "Epoch [7000/10000], Loss: 0.0419\n",
            "Epoch [7500/10000], Loss: 0.0419\n",
            "Epoch [8000/10000], Loss: 0.0419\n",
            "Epoch [8500/10000], Loss: 0.0419\n",
            "Epoch [9000/10000], Loss: 0.0419\n",
            "Epoch [9500/10000], Loss: 0.0419\n",
            "Epoch [10000/10000], Loss: 0.0419\n"
          ]
        }
      ],
      "source": [
        "import torch\n",
        "import torch.nn as nn\n",
        "import torch.optim as optim\n",
        "from sklearn import datasets\n",
        "from sklearn.model_selection import train_test_split\n",
        "from sklearn.preprocessing import StandardScaler ,MinMaxScaler , Normalizer\n",
        "from torch.nn.functional import normalize\n",
        "\n",
        "\n",
        "# Load Iris dataset\n",
        "iris = datasets.load_iris()\n",
        "X = iris.data\n",
        "y = iris.target\n",
        "\n",
        "scaler = StandardScaler()\n",
        "X = scaler.fit_transform(X)\n",
        "\n",
        "# Convert to PyTorch tensor before normalization\n",
        "#X = torch.tensor(normalize(torch.tensor(X, dtype=torch.float32), p=2, dim=1), dtype=torch.float32)\n",
        "normalizer = Normalizer(norm='l2')\n",
        "X = normalizer.fit_transform(X)\n",
        "\n",
        "\n",
        "# Convert to PyTorch tensors\n",
        "X = torch.tensor(X, dtype=torch.float32)\n",
        "\n",
        "# Define the autoencoder model\n",
        "class Autoencoder(nn.Module):\n",
        "    def __init__(self):\n",
        "        super(Autoencoder, self).__init__()\n",
        "        self.encoder = nn.Sequential(\n",
        "            nn.Linear(4, 2)  # 4 inputs to 3 nodes (bottleneck)\n",
        "        )\n",
        "        self.decoder = nn.Sequential(\n",
        "            nn.Linear(2, 4),  # 3 nodes to 4 outputs\n",
        "            nn.Linear(4, 4)\n",
        "        )\n",
        "\n",
        "    def forward(self, x):\n",
        "        x = self.encoder(x)\n",
        "        x = self.decoder(x)\n",
        "        return x\n",
        "\n",
        "# Instantiate the model, define loss function and optimizer\n",
        "model = Autoencoder()\n",
        "criterion = nn.MSELoss()\n",
        "optimizer = optim.RMSprop(model.parameters(), lr=0.001)\n",
        "\n",
        "# Training the autoencoder\n",
        "num_epochs = 10000\n",
        "for epoch in range(num_epochs):\n",
        "    # Forward pass\n",
        "    outputs = model(X)\n",
        "    loss = criterion(outputs, X)\n",
        "\n",
        "    # Backward pass and optimization\n",
        "    optimizer.zero_grad()\n",
        "    loss.backward()\n",
        "    optimizer.step()\n",
        "\n",
        "    # Print progress\n",
        "    if (epoch+1) % 500 == 0:\n",
        "        print(f'Epoch [{epoch+1}/{num_epochs}], Loss: {loss.item():.4f}')\n"
      ]
    },
    {
      "cell_type": "markdown",
      "source": [
        "# Polynomial feature map"
      ],
      "metadata": {
        "id": "1Gx-slHMSD40"
      },
      "id": "1Gx-slHMSD40"
    },
    {
      "cell_type": "code",
      "execution_count": 6,
      "id": "d984ef13",
      "metadata": {
        "papermill": {
          "duration": 0.006233,
          "end_time": "2024-02-20T16:27:56.445681",
          "exception": false,
          "start_time": "2024-02-20T16:27:56.439448",
          "status": "completed"
        },
        "tags": [],
        "id": "d984ef13",
        "outputId": "b2bf1739-0202-4721-e5a0-5cfc3321cff1",
        "colab": {
          "base_uri": "https://localhost:8080/"
        }
      },
      "outputs": [
        {
          "output_type": "stream",
          "name": "stdout",
          "text": [
            "Epoch [500/10000], Loss: 0.1881\n",
            "Epoch [1000/10000], Loss: 0.0924\n",
            "Epoch [1500/10000], Loss: 0.0674\n",
            "Epoch [2000/10000], Loss: 0.0576\n",
            "Epoch [2500/10000], Loss: 0.0528\n",
            "Epoch [3000/10000], Loss: 0.0502\n",
            "Epoch [3500/10000], Loss: 0.0486\n",
            "Epoch [4000/10000], Loss: 0.0476\n",
            "Epoch [4500/10000], Loss: 0.0470\n",
            "Epoch [5000/10000], Loss: 0.0465\n",
            "Epoch [5500/10000], Loss: 0.0461\n",
            "Epoch [6000/10000], Loss: 0.0458\n",
            "Epoch [6500/10000], Loss: 0.0456\n",
            "Epoch [7000/10000], Loss: 0.0454\n",
            "Epoch [7500/10000], Loss: 0.0452\n",
            "Epoch [8000/10000], Loss: 0.0450\n",
            "Epoch [8500/10000], Loss: 0.0449\n",
            "Epoch [9000/10000], Loss: 0.0448\n",
            "Epoch [9500/10000], Loss: 0.0447\n",
            "Epoch [10000/10000], Loss: 0.0446\n"
          ]
        }
      ],
      "source": [
        "class Clifford_Autoencoder(nn.Module):\n",
        "    def __init__(self):\n",
        "        super(Clifford_Autoencoder, self).__init__()\n",
        "        self.encoder = nn.Sequential(\n",
        "            nn.Linear(4, 2)  # 4 inputs to 2 nodes (bottleneck)\n",
        "        )\n",
        "        self.decoder = nn.Sequential(\n",
        "            nn.Linear(3, 4)  # 3 nodes to 4 outputs\n",
        "        )\n",
        "\n",
        "        self.q0 = torch.tensor([[1], [0]], dtype=torch.cfloat)\n",
        "\n",
        "    def forward(self, x):\n",
        "        x = self.encoder(x)\n",
        "\n",
        "        # Polynomial feature map\n",
        "        x1_square = x[:, 0:1] ** 2\n",
        "        x2_square = x[:, 1:2] ** 2\n",
        "        x1_x2 = x[:, 0:1] * x[:, 1:2]\n",
        "\n",
        "        # Combine the polynomial features\n",
        "        poly_features = torch.cat((x1_square, x2_square, x1_x2 ), dim=-1)\n",
        "\n",
        "        x = self.decoder(poly_features)\n",
        "\n",
        "        return x\n",
        "\n",
        "  # Instantiate the model, define loss function and optimizer\n",
        "model = Clifford_Autoencoder()\n",
        "criterion = nn.MSELoss()\n",
        "optimizer = optim.RMSprop(model.parameters(), lr=0.001)\n",
        "\n",
        "# Training the autoencoder\n",
        "num_epochs = 10000\n",
        "for epoch in range(num_epochs):\n",
        "    # Forward pass\n",
        "    outputs = model(X)\n",
        "    loss = criterion(outputs, X)\n",
        "\n",
        "    # Backward pass and optimization\n",
        "    optimizer.zero_grad()\n",
        "    loss.backward()\n",
        "    optimizer.step()\n",
        "\n",
        "    # Print progress\n",
        "    if (epoch+1) % 500 == 0:\n",
        "        print(f'Epoch [{epoch+1}/{num_epochs}], Loss: {loss.item():.4f}')"
      ]
    },
    {
      "cell_type": "code",
      "source": [],
      "metadata": {
        "id": "ECoo7RQEWdfK"
      },
      "id": "ECoo7RQEWdfK",
      "execution_count": null,
      "outputs": []
    },
    {
      "cell_type": "code",
      "execution_count": 7,
      "id": "b5572f04",
      "metadata": {
        "execution": {
          "iopub.execute_input": "2024-02-20T16:27:56.462179Z",
          "iopub.status.busy": "2024-02-20T16:27:56.461488Z",
          "iopub.status.idle": "2024-02-20T16:47:52.388882Z",
          "shell.execute_reply": "2024-02-20T16:47:52.387146Z"
        },
        "papermill": {
          "duration": 1195.939628,
          "end_time": "2024-02-20T16:47:52.391699",
          "exception": false,
          "start_time": "2024-02-20T16:27:56.452071",
          "status": "completed"
        },
        "tags": [],
        "colab": {
          "base_uri": "https://localhost:8080/"
        },
        "id": "b5572f04",
        "outputId": "7e13f737-50d8-4a40-96fb-caeda724ef86"
      },
      "outputs": [
        {
          "output_type": "stream",
          "name": "stdout",
          "text": [
            "Epoch [500/10000], Loss: 0.2739\n",
            "Epoch [1000/10000], Loss: 0.1687\n",
            "Epoch [1500/10000], Loss: 0.1143\n",
            "Epoch [2000/10000], Loss: 0.0727\n",
            "Epoch [2500/10000], Loss: 0.0517\n",
            "Epoch [3000/10000], Loss: 0.0438\n",
            "Epoch [3500/10000], Loss: 0.0411\n",
            "Epoch [4000/10000], Loss: 0.0403\n",
            "Epoch [4500/10000], Loss: 0.0399\n",
            "Epoch [5000/10000], Loss: 0.0397\n",
            "Epoch [5500/10000], Loss: 0.0396\n",
            "Epoch [6000/10000], Loss: 0.0395\n",
            "Epoch [6500/10000], Loss: 0.0394\n",
            "Epoch [7000/10000], Loss: 0.0393\n",
            "Epoch [7500/10000], Loss: 0.0392\n",
            "Epoch [8000/10000], Loss: 0.0392\n",
            "Epoch [8500/10000], Loss: 0.0391\n",
            "Epoch [9000/10000], Loss: 0.0391\n",
            "Epoch [9500/10000], Loss: 0.0390\n",
            "Epoch [10000/10000], Loss: 0.0390\n"
          ]
        }
      ],
      "source": [
        "\n",
        "\n",
        "\n",
        "class Clifford_Autoencoder(nn.Module):\n",
        "    def __init__(self):\n",
        "        super(Clifford_Autoencoder, self).__init__()\n",
        "        self.encoder = nn.Sequential(\n",
        "            nn.Linear(4, 2)  # 4 inputs to 2 nodes (bottleneck)\n",
        "        )\n",
        "        self.decoder = nn.Sequential(\n",
        "            nn.Linear(3, 4)  # 3 nodes to 4 outputs\n",
        "        )\n",
        "\n",
        "        self.q0 = torch.tensor([[1], [0]], dtype=torch.cfloat)\n",
        "\n",
        "\n",
        "\n",
        "    def forward(self, x):\n",
        "        x = self.encoder(x)\n",
        "\n",
        "        # Precompute trigonometric functions for all samples\n",
        "        cos_x0 = torch.cos(x[:, 0] / 2).unsqueeze(-1)\n",
        "        sin_x0 = torch.sin(x[:, 0] / 2).unsqueeze(-1)\n",
        "        cos_x1 = torch.cos(x[:, 1])\n",
        "        sin_x1 = torch.sin(x[:, 1])\n",
        "\n",
        "        # Create the encoded tensor for all samples\n",
        "        encoded = torch.zeros(x.size(0), 2, 2, dtype=torch.cfloat, device=x.device)\n",
        "        encoded[:, 0, 0] = cos_x0.squeeze()\n",
        "        encoded[:, 1, 0] = (cos_x1 + 1j * sin_x1) * sin_x0.squeeze()\n",
        "\n",
        "        # Apply matrix multiplication for all samples\n",
        "        qubit_1 = torch.matmul(encoded, self.q0).squeeze(-1)\n",
        "\n",
        "        # Extract real and imaginary parts for logits\n",
        "        real_part_1 = qubit_1.real\n",
        "        imaginary_part_1 = qubit_1.imag[:, 1:2]\n",
        "\n",
        "        # Concatenate real and imaginary parts\n",
        "        logits = torch.cat((real_part_1, imaginary_part_1), dim=-1)\n",
        "\n",
        "        x = self.decoder(logits)\n",
        "\n",
        "        return x\n",
        "\n",
        "# Instantiate the model, define loss function and optimizer\n",
        "model = Clifford_Autoencoder()\n",
        "criterion = nn.MSELoss()\n",
        "optimizer = optim.RMSprop(model.parameters(), lr=0.001)\n",
        "\n",
        "# Training the autoencoder\n",
        "num_epochs = 10000\n",
        "for epoch in range(num_epochs):\n",
        "    # Forward pass\n",
        "    outputs = model(X)\n",
        "    loss = criterion(outputs, X)\n",
        "\n",
        "    # Backward pass and optimization\n",
        "    optimizer.zero_grad()\n",
        "    loss.backward()\n",
        "    optimizer.step()\n",
        "\n",
        "    # Print progress\n",
        "    if (epoch+1) % 500 == 0:\n",
        "        print(f'Epoch [{epoch+1}/{num_epochs}], Loss: {loss.item():.4f}')"
      ]
    }
  ],
  "metadata": {
    "kaggle": {
      "accelerator": "none",
      "dataSources": [],
      "dockerImageVersionId": 30646,
      "isGpuEnabled": false,
      "isInternetEnabled": true,
      "language": "python",
      "sourceType": "notebook"
    },
    "kernelspec": {
      "display_name": "Python 3",
      "language": "python",
      "name": "python3"
    },
    "language_info": {
      "codemirror_mode": {
        "name": "ipython",
        "version": 3
      },
      "file_extension": ".py",
      "mimetype": "text/x-python",
      "name": "python",
      "nbconvert_exporter": "python",
      "pygments_lexer": "ipython3",
      "version": "3.10.13"
    },
    "papermill": {
      "default_parameters": {},
      "duration": 1221.059418,
      "end_time": "2024-02-20T16:47:55.335858",
      "environment_variables": {},
      "exception": null,
      "input_path": "__notebook__.ipynb",
      "output_path": "__notebook__.ipynb",
      "parameters": {},
      "start_time": "2024-02-20T16:27:34.276440",
      "version": "2.5.0"
    },
    "colab": {
      "provenance": [],
      "include_colab_link": true
    }
  },
  "nbformat": 4,
  "nbformat_minor": 5
}